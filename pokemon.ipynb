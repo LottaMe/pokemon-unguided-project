{
 "cells": [
  {
   "cell_type": "markdown",
   "id": "a9c41d5c-bede-4d67-919d-ab2270e512a2",
   "metadata": {},
   "source": [
    "# Investigate - analyse your dataset"
   ]
  },
  {
   "cell_type": "markdown",
   "id": "2cbd26af-76d4-4dd9-b96a-f8e65b5f7679",
   "metadata": {},
   "source": [
    "## 1. Define the goal of your analysis\n",
    "\n",
    "*How can you define your goal as a question that you can answer with data analysis?*\n",
    "\n",
    "Main: What starter pokemon should you pick in each generation? \n",
    "- Assumption: Team combination should cover a multitude of types\n",
    "- Higher stats are better\n",
    "- Types have weaknesses and strengths that should be considered\n",
    "\n",
    "*Which sub questions do you need to answer this question?*\n",
    "- What types are rarer in the generations?\n",
    "- How many types do the starters have?\n",
    "- What starter has the most weaknesses and strenghts because of their type(s)?\n",
    "- Are there differences in the starters stats?"
   ]
  },
  {
   "cell_type": "markdown",
   "id": "e3ba6546-2e36-45ee-b959-70805b6ee687",
   "metadata": {},
   "source": [
    "## 2. Data Handling\n",
    "*Reflect on your data set. How was it collected? Where does it come from? What implications does that have for answering your question?*\n",
    "\n",
    "The data comes from [Michael Lomuscio (Kaggle)](https://www.kaggle.com/mlomuscio/pokemon). It is an updated dataset from [Alberto Barradas dataset](https://www.kaggle.com/abcsds/pokemon). The data itself comes from official pokemon/pokedex sides. It is not collected through, e.g. surveys of a sample group, where you should consider bias, etc, but represents current pokemon data. \n"
   ]
  },
  {
   "source": [
    "*Load your data and observe what state your data is in.*\n",
    "\n",
    "- The dataframe has 12 columns and 800 rows. \n",
    "- The columns are: Num, Name, Type1, Type2, HP, Attack, Defense, SpAtk, SpDef, Speed, Generation, Legendary\n",
    "- Just from looking at the first 5 rows, we can see that there are NaNs in the Type2 column"
   ],
   "cell_type": "markdown",
   "metadata": {}
  },
  {
   "cell_type": "code",
   "execution_count": 12,
   "metadata": {},
   "outputs": [
    {
     "output_type": "display_data",
     "data": {
      "text/plain": "(800, 12)"
     },
     "metadata": {}
    },
    {
     "output_type": "execute_result",
     "data": {
      "text/plain": [
       "   Num                   Name  Type1   Type2  HP  Attack  Defense  SpAtk  \\\n",
       "0    1              Bulbasaur  Grass  Poison  45      49       49     65   \n",
       "1    2                Ivysaur  Grass  Poison  60      62       63     80   \n",
       "2    3               Venusaur  Grass  Poison  80      82       83    100   \n",
       "3    3  VenusaurMega Venusaur  Grass  Poison  80     100      123    122   \n",
       "4    4             Charmander   Fire     NaN  39      52       43     60   \n",
       "\n",
       "   SpDef  Speed  Generation  Legendary  \n",
       "0     65     45           1      False  \n",
       "1     80     60           1      False  \n",
       "2    100     80           1      False  \n",
       "3    120     80           1      False  \n",
       "4     50     65           1      False  "
      ],
      "text/html": "<div>\n<style scoped>\n    .dataframe tbody tr th:only-of-type {\n        vertical-align: middle;\n    }\n\n    .dataframe tbody tr th {\n        vertical-align: top;\n    }\n\n    .dataframe thead th {\n        text-align: right;\n    }\n</style>\n<table border=\"1\" class=\"dataframe\">\n  <thead>\n    <tr style=\"text-align: right;\">\n      <th></th>\n      <th>Num</th>\n      <th>Name</th>\n      <th>Type1</th>\n      <th>Type2</th>\n      <th>HP</th>\n      <th>Attack</th>\n      <th>Defense</th>\n      <th>SpAtk</th>\n      <th>SpDef</th>\n      <th>Speed</th>\n      <th>Generation</th>\n      <th>Legendary</th>\n    </tr>\n  </thead>\n  <tbody>\n    <tr>\n      <th>0</th>\n      <td>1</td>\n      <td>Bulbasaur</td>\n      <td>Grass</td>\n      <td>Poison</td>\n      <td>45</td>\n      <td>49</td>\n      <td>49</td>\n      <td>65</td>\n      <td>65</td>\n      <td>45</td>\n      <td>1</td>\n      <td>False</td>\n    </tr>\n    <tr>\n      <th>1</th>\n      <td>2</td>\n      <td>Ivysaur</td>\n      <td>Grass</td>\n      <td>Poison</td>\n      <td>60</td>\n      <td>62</td>\n      <td>63</td>\n      <td>80</td>\n      <td>80</td>\n      <td>60</td>\n      <td>1</td>\n      <td>False</td>\n    </tr>\n    <tr>\n      <th>2</th>\n      <td>3</td>\n      <td>Venusaur</td>\n      <td>Grass</td>\n      <td>Poison</td>\n      <td>80</td>\n      <td>82</td>\n      <td>83</td>\n      <td>100</td>\n      <td>100</td>\n      <td>80</td>\n      <td>1</td>\n      <td>False</td>\n    </tr>\n    <tr>\n      <th>3</th>\n      <td>3</td>\n      <td>VenusaurMega Venusaur</td>\n      <td>Grass</td>\n      <td>Poison</td>\n      <td>80</td>\n      <td>100</td>\n      <td>123</td>\n      <td>122</td>\n      <td>120</td>\n      <td>80</td>\n      <td>1</td>\n      <td>False</td>\n    </tr>\n    <tr>\n      <th>4</th>\n      <td>4</td>\n      <td>Charmander</td>\n      <td>Fire</td>\n      <td>NaN</td>\n      <td>39</td>\n      <td>52</td>\n      <td>43</td>\n      <td>60</td>\n      <td>50</td>\n      <td>65</td>\n      <td>1</td>\n      <td>False</td>\n    </tr>\n  </tbody>\n</table>\n</div>"
     },
     "metadata": {},
     "execution_count": 12
    }
   ],
   "source": [
    "import pandas as pd\n",
    "pokemon = pd.read_csv('./PokemonData.csv')\n",
    "display(pokemon.shape)\n",
    "pokemon.head()"
   ]
  },
  {
   "source": [
    "*Describe your dataset. What do the rows mean? What information do you have in the columns? Data types...*\n",
    "- A row is one pokemon\n",
    "- The columns give you: \n",
    "    - Name: object with the pokemon's name\n",
    "    - Type1: object with the first type of the pokemon\n",
    "    - Type2: object with the second type of the pokemon\n",
    "    - HP: int that gives you the average HP of the pokemon\n",
    "    - Attack: int that gives you the average Attack of the pokemon\n",
    "    - Defense: int that gives you the average Defense of the pokemon\n",
    "    - SpAtk: int that gives you the average Special Attack of the pokemon\n",
    "    - SpDef: int that gives you the average Special Defense of the pokemon\n",
    "    - Speed: int that gives you the average Speed of the pokemon\n",
    "    - Generation: int that gives you the Generation of the pokemon\n",
    "    - Legendary: Boolean that shows whether a pokemon is legendary or not\n"
   ],
   "cell_type": "markdown",
   "metadata": {}
  },
  {
   "cell_type": "code",
   "execution_count": 9,
   "metadata": {},
   "outputs": [
    {
     "output_type": "display_data",
     "data": {
      "text/plain": "(800, 12)"
     },
     "metadata": {}
    },
    {
     "output_type": "execute_result",
     "data": {
      "text/plain": [
       "Num            int64\n",
       "Name          object\n",
       "Type1         object\n",
       "Type2         object\n",
       "HP             int64\n",
       "Attack         int64\n",
       "Defense        int64\n",
       "SpAtk          int64\n",
       "SpDef          int64\n",
       "Speed          int64\n",
       "Generation     int64\n",
       "Legendary       bool\n",
       "dtype: object"
      ]
     },
     "metadata": {},
     "execution_count": 9
    }
   ],
   "source": [
    "pokemon.dtypes"
   ]
  },
  {
   "source": [
    "*Identify things that need to be cleaned and preprocessed and make a plan for which processing steps you need.*\n",
    "\n",
    "The only column with missing values is the Type2 column. The value is missing if the pokemon is not a dual type pokemon and therefore doesn't have a second type.\n",
    "For now I do not see a reason to get rid of these missing values nor convert them, but they will be very useful when e.g. comparing how many pokemon are single type vs dual type.\n",
    "\n",
    "For now all columns seem interesting. \n",
    "- The number and name to id the pokemon easily\n",
    "- The types to compare pokemon based on type(s)\n",
    "- The stats to compare pokemon based on stats\n",
    "- The generation to group pokemon based on generation\n",
    "- Legendary seems to be the least interesting so far, but it might be interesting to look at starters compared to legendary pokemon or to take legendary pokemon out of the dataframe, because they are supposed to be more powerful, rare pokemon that could impact any calculations we make with the stats, as they are likely edge cases."
   ],
   "cell_type": "markdown",
   "metadata": {}
  },
  {
   "cell_type": "code",
   "execution_count": 11,
   "metadata": {},
   "outputs": [
    {
     "output_type": "execute_result",
     "data": {
      "text/plain": [
       "Num           False\n",
       "Name          False\n",
       "Type1         False\n",
       "Type2          True\n",
       "HP            False\n",
       "Attack        False\n",
       "Defense       False\n",
       "SpAtk         False\n",
       "SpDef         False\n",
       "Speed         False\n",
       "Generation    False\n",
       "Legendary     False\n",
       "dtype: bool"
      ]
     },
     "metadata": {},
     "execution_count": 11
    }
   ],
   "source": [
    "pokemon.isna().any()"
   ]
  },
  {
   "cell_type": "markdown",
   "id": "9c1a0051-ceb3-48a0-81f9-80deb2078632",
   "metadata": {},
   "source": [
    "## 3. Methods\n",
    "- *Identify which parts of the dataset are most relevant to answering your questions*\n",
    "    - *Which features are most relevant?*\n",
    "    - *What can you say about the quality of these features? How will it influence your analysis?*\n",
    "- *Select which methods you want to use to answer your questions.*\n",
    "    - *Which results will you generate?*\n",
    "    - *How do these results answer your question?*\n",
    "    - *What are threads to validity?*\n",
    "- *Example Methods:*\n",
    "    - *Descriptive statistics: eg. median, quartiles, mean, standard deviation.*\n",
    "    - *Data visualizations, eg. countplots for categorical data; histograms and distributions for typical values of continuous data; scatterplots for relations between two numerical variables, etc. These visualizations should be relevant to the question you are trying to answer.*\n",
    "\n",
    "\n",
    "Different parts of the dataset will be important for different parts of the analysis I would like to do.\n",
    "\n",
    "### Types\n",
    "The types are important for comparing pokemon by types. Both variety and strengths and weaknesses.\n",
    "\n",
    "The variety could be visualized by a bar plot.\n",
    "\n",
    "I have not decided how (or whether) to best visualize the strengths and weaknesses.\n",
    "\n",
    "### Stats\n",
    "The stats are important for comparing pokemon by stats. Here we can do a lot of fun calculations. Are starter pokemon generally better or worse then other pokemon (comparing the mean of different stats or sum of all stats)? Are there significant differences between the starter pokemon?\n",
    "Good visualizations here could be line plots.\n",
    "\n",
    "### Extra\n",
    "A few other things to consider would be: \n",
    "- Grouping by generation (or focussing on one generation)\n",
    "- Dropping legendary pokemon to get a better understanding of e.g. the average stats of non-legendary pokemon\n",
    "- Is there a relation between types and stats, e.g. do water types generally have more hp, etc\n",
    "- Is there a relation between stats, e.g. do pokemon with higher attack have lower special attack,...\n",
    "- Do the two points above translate to our starter pokemon?\n",
    "\n",
    "\n",
    "\n"
   ]
  }
 ],
 "metadata": {
  "kernelspec": {
   "display_name": "Python 3 (ipykernel)",
   "language": "python",
   "name": "python3"
  },
  "language_info": {
   "codemirror_mode": {
    "name": "ipython",
    "version": 3
   },
   "file_extension": ".py",
   "mimetype": "text/x-python",
   "name": "python",
   "nbconvert_exporter": "python",
   "pygments_lexer": "ipython3",
   "version": "3.9.7-final"
  }
 },
 "nbformat": 4,
 "nbformat_minor": 5
}